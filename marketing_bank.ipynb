{
 "cells": [
  {
   "cell_type": "markdown",
   "metadata": {},
   "source": [
    "# PA 006 - BANK MARKETING STRATEGY"
   ]
  },
  {
   "cell_type": "markdown",
   "metadata": {},
   "source": [
    "# Planing Solution (IOT)"
   ]
  },
  {
   "cell_type": "markdown",
   "metadata": {},
   "source": [
    "## 0.1. Helper Functions"
   ]
  },
  {
   "cell_type": "markdown",
   "metadata": {},
   "source": [
    "## Input"
   ]
  },
  {
   "cell_type": "markdown",
   "metadata": {},
   "source": [
    "You have been hired as a data scientist consultant to create a data product that creates customer segmentation that will drive a marketing strategy and the expected results of your work are:\n",
    "\n",
    "1. Create a customer segmentation based on clear selection criteria;\n",
    "2. Make customer segmentation accessible to the operations team;\n",
    "3. Teach the operations team how to use your solution;\n",
    "4. transfer knowledge to International Bank Data Scientists;\n",
    "5. Recommend 2-3 business levers for each customer segment."
   ]
  },
  {
   "cell_type": "markdown",
   "metadata": {},
   "source": [
    "## Output"
   ]
  },
  {
   "cell_type": "markdown",
   "metadata": {},
   "source": [
    "-Tools: \n",
    "    -Data Description\n",
    "    -Replacement of NA's\n",
    "\n",
    "-EDA:\n",
    "    -Univariate Analysis\n",
    "    -Bivariate Analysis\n",
    "    -outlier detection\n",
    "    -feature selection\n",
    "    -space study\n",
    "    -Definition of Enbedding\n",
    "\n",
    "-Machine Learning Algorithms Training:\n",
    "    -performance analysis\n",
    "    -clustering analysis\n",
    "    -Defining clustering numbers\n",
    "\n",
    "-EDA - Insights:\n",
    "    -Explanation of the characteristics of the segments\n",
    "    -Table to store the clustered clients\n",
    "    -Production notebook creation\n",
    "\n",
    "-AWS Architecture:\n",
    "    -S3 to store the data\n",
    "    -EC2 to store ETL and preview tool\n",
    "    -DB to store the table\n",
    "    -cronjob\n",
    "    -papermill"
   ]
  },
  {
   "cell_type": "markdown",
   "metadata": {},
   "source": [
    "## Tasks"
   ]
  },
  {
   "cell_type": "markdown",
   "metadata": {},
   "source": [
    "# 0.0. Imports"
   ]
  },
  {
   "cell_type": "code",
   "execution_count": 21,
   "metadata": {},
   "outputs": [],
   "source": [
    "import pandas as pd \n",
    "import seaborn as sns\n",
    "import numpy as np\n",
    "\n",
    "from sklearn import cluster as c \n",
    "from sklearn import metrics as m \n",
    "from matplotlib import pyplot as plt"
   ]
  },
  {
   "cell_type": "markdown",
   "metadata": {},
   "source": [
    "## 0.1. Loading Data\n"
   ]
  },
  {
   "cell_type": "code",
   "execution_count": 22,
   "metadata": {},
   "outputs": [],
   "source": [
    "df_raw = pd.read_csv(\"/Users/joaofmoura/Desktop/Aulinhas/Projetos/BankMarketingStrategy/CC GENERAL.csv\")"
   ]
  },
  {
   "cell_type": "markdown",
   "metadata": {},
   "source": [
    "# 1.0. Data Description"
   ]
  },
  {
   "cell_type": "code",
   "execution_count": 23,
   "metadata": {},
   "outputs": [],
   "source": [
    "df1 = df_raw.copy()"
   ]
  },
  {
   "cell_type": "markdown",
   "metadata": {},
   "source": [
    "## 1.1. Columns Rename"
   ]
  },
  {
   "cell_type": "code",
   "execution_count": 24,
   "metadata": {},
   "outputs": [],
   "source": [
    "df1.columns = df1.columns.str.lower()"
   ]
  },
  {
   "cell_type": "code",
   "execution_count": 25,
   "metadata": {},
   "outputs": [
    {
     "data": {
      "text/html": [
       "<div>\n",
       "<style scoped>\n",
       "    .dataframe tbody tr th:only-of-type {\n",
       "        vertical-align: middle;\n",
       "    }\n",
       "\n",
       "    .dataframe tbody tr th {\n",
       "        vertical-align: top;\n",
       "    }\n",
       "\n",
       "    .dataframe thead th {\n",
       "        text-align: right;\n",
       "    }\n",
       "</style>\n",
       "<table border=\"1\" class=\"dataframe\">\n",
       "  <thead>\n",
       "    <tr style=\"text-align: right;\">\n",
       "      <th></th>\n",
       "      <th>cust_id</th>\n",
       "      <th>balance</th>\n",
       "      <th>balance_frequency</th>\n",
       "      <th>purchases</th>\n",
       "      <th>oneoff_purchases</th>\n",
       "      <th>installments_purchases</th>\n",
       "      <th>cash_advance</th>\n",
       "      <th>purchases_frequency</th>\n",
       "      <th>oneoff_purchases_frequency</th>\n",
       "      <th>purchases_installments_frequency</th>\n",
       "      <th>cash_advance_frequency</th>\n",
       "      <th>cash_advance_trx</th>\n",
       "      <th>purchases_trx</th>\n",
       "      <th>credit_limit</th>\n",
       "      <th>payments</th>\n",
       "      <th>minimum_payments</th>\n",
       "      <th>prc_full_payment</th>\n",
       "      <th>tenure</th>\n",
       "    </tr>\n",
       "  </thead>\n",
       "  <tbody>\n",
       "    <tr>\n",
       "      <th>0</th>\n",
       "      <td>C10001</td>\n",
       "      <td>40.900749</td>\n",
       "      <td>0.818182</td>\n",
       "      <td>95.40</td>\n",
       "      <td>0.00</td>\n",
       "      <td>95.4</td>\n",
       "      <td>0.000000</td>\n",
       "      <td>0.166667</td>\n",
       "      <td>0.000000</td>\n",
       "      <td>0.083333</td>\n",
       "      <td>0.000000</td>\n",
       "      <td>0</td>\n",
       "      <td>2</td>\n",
       "      <td>1000.0</td>\n",
       "      <td>201.802084</td>\n",
       "      <td>139.509787</td>\n",
       "      <td>0.000000</td>\n",
       "      <td>12</td>\n",
       "    </tr>\n",
       "    <tr>\n",
       "      <th>1</th>\n",
       "      <td>C10002</td>\n",
       "      <td>3202.467416</td>\n",
       "      <td>0.909091</td>\n",
       "      <td>0.00</td>\n",
       "      <td>0.00</td>\n",
       "      <td>0.0</td>\n",
       "      <td>6442.945483</td>\n",
       "      <td>0.000000</td>\n",
       "      <td>0.000000</td>\n",
       "      <td>0.000000</td>\n",
       "      <td>0.250000</td>\n",
       "      <td>4</td>\n",
       "      <td>0</td>\n",
       "      <td>7000.0</td>\n",
       "      <td>4103.032597</td>\n",
       "      <td>1072.340217</td>\n",
       "      <td>0.222222</td>\n",
       "      <td>12</td>\n",
       "    </tr>\n",
       "    <tr>\n",
       "      <th>2</th>\n",
       "      <td>C10003</td>\n",
       "      <td>2495.148862</td>\n",
       "      <td>1.000000</td>\n",
       "      <td>773.17</td>\n",
       "      <td>773.17</td>\n",
       "      <td>0.0</td>\n",
       "      <td>0.000000</td>\n",
       "      <td>1.000000</td>\n",
       "      <td>1.000000</td>\n",
       "      <td>0.000000</td>\n",
       "      <td>0.000000</td>\n",
       "      <td>0</td>\n",
       "      <td>12</td>\n",
       "      <td>7500.0</td>\n",
       "      <td>622.066742</td>\n",
       "      <td>627.284787</td>\n",
       "      <td>0.000000</td>\n",
       "      <td>12</td>\n",
       "    </tr>\n",
       "    <tr>\n",
       "      <th>3</th>\n",
       "      <td>C10004</td>\n",
       "      <td>1666.670542</td>\n",
       "      <td>0.636364</td>\n",
       "      <td>1499.00</td>\n",
       "      <td>1499.00</td>\n",
       "      <td>0.0</td>\n",
       "      <td>205.788017</td>\n",
       "      <td>0.083333</td>\n",
       "      <td>0.083333</td>\n",
       "      <td>0.000000</td>\n",
       "      <td>0.083333</td>\n",
       "      <td>1</td>\n",
       "      <td>1</td>\n",
       "      <td>7500.0</td>\n",
       "      <td>0.000000</td>\n",
       "      <td>NaN</td>\n",
       "      <td>0.000000</td>\n",
       "      <td>12</td>\n",
       "    </tr>\n",
       "    <tr>\n",
       "      <th>4</th>\n",
       "      <td>C10005</td>\n",
       "      <td>817.714335</td>\n",
       "      <td>1.000000</td>\n",
       "      <td>16.00</td>\n",
       "      <td>16.00</td>\n",
       "      <td>0.0</td>\n",
       "      <td>0.000000</td>\n",
       "      <td>0.083333</td>\n",
       "      <td>0.083333</td>\n",
       "      <td>0.000000</td>\n",
       "      <td>0.000000</td>\n",
       "      <td>0</td>\n",
       "      <td>1</td>\n",
       "      <td>1200.0</td>\n",
       "      <td>678.334763</td>\n",
       "      <td>244.791237</td>\n",
       "      <td>0.000000</td>\n",
       "      <td>12</td>\n",
       "    </tr>\n",
       "  </tbody>\n",
       "</table>\n",
       "</div>"
      ],
      "text/plain": [
       "  cust_id      balance  balance_frequency  purchases  oneoff_purchases  \\\n",
       "0  C10001    40.900749           0.818182      95.40              0.00   \n",
       "1  C10002  3202.467416           0.909091       0.00              0.00   \n",
       "2  C10003  2495.148862           1.000000     773.17            773.17   \n",
       "3  C10004  1666.670542           0.636364    1499.00           1499.00   \n",
       "4  C10005   817.714335           1.000000      16.00             16.00   \n",
       "\n",
       "   installments_purchases  cash_advance  purchases_frequency  \\\n",
       "0                    95.4      0.000000             0.166667   \n",
       "1                     0.0   6442.945483             0.000000   \n",
       "2                     0.0      0.000000             1.000000   \n",
       "3                     0.0    205.788017             0.083333   \n",
       "4                     0.0      0.000000             0.083333   \n",
       "\n",
       "   oneoff_purchases_frequency  purchases_installments_frequency  \\\n",
       "0                    0.000000                          0.083333   \n",
       "1                    0.000000                          0.000000   \n",
       "2                    1.000000                          0.000000   \n",
       "3                    0.083333                          0.000000   \n",
       "4                    0.083333                          0.000000   \n",
       "\n",
       "   cash_advance_frequency  cash_advance_trx  purchases_trx  credit_limit  \\\n",
       "0                0.000000                 0              2        1000.0   \n",
       "1                0.250000                 4              0        7000.0   \n",
       "2                0.000000                 0             12        7500.0   \n",
       "3                0.083333                 1              1        7500.0   \n",
       "4                0.000000                 0              1        1200.0   \n",
       "\n",
       "      payments  minimum_payments  prc_full_payment  tenure  \n",
       "0   201.802084        139.509787          0.000000      12  \n",
       "1  4103.032597       1072.340217          0.222222      12  \n",
       "2   622.066742        627.284787          0.000000      12  \n",
       "3     0.000000               NaN          0.000000      12  \n",
       "4   678.334763        244.791237          0.000000      12  "
      ]
     },
     "execution_count": 25,
     "metadata": {},
     "output_type": "execute_result"
    }
   ],
   "source": [
    "df1.head()"
   ]
  },
  {
   "cell_type": "markdown",
   "metadata": {},
   "source": [
    "## 1.1. Data Dimensions"
   ]
  },
  {
   "cell_type": "code",
   "execution_count": 26,
   "metadata": {},
   "outputs": [
    {
     "name": "stdout",
     "output_type": "stream",
     "text": [
      "Number of rows: 8950\n",
      "Number of columns: 18\n"
     ]
    }
   ],
   "source": [
    "print (\"Number of rows: {}\" .format(df1.shape[0]))\n",
    "print (\"Number of columns: {}\" .format(df1.shape[1]))"
   ]
  },
  {
   "cell_type": "markdown",
   "metadata": {},
   "source": [
    "## 1.3. Data Types"
   ]
  },
  {
   "cell_type": "code",
   "execution_count": 27,
   "metadata": {},
   "outputs": [
    {
     "data": {
      "text/plain": [
       "cust_id                              object\n",
       "balance                             float64\n",
       "balance_frequency                   float64\n",
       "purchases                           float64\n",
       "oneoff_purchases                    float64\n",
       "installments_purchases              float64\n",
       "cash_advance                        float64\n",
       "purchases_frequency                 float64\n",
       "oneoff_purchases_frequency          float64\n",
       "purchases_installments_frequency    float64\n",
       "cash_advance_frequency              float64\n",
       "cash_advance_trx                      int64\n",
       "purchases_trx                         int64\n",
       "credit_limit                        float64\n",
       "payments                            float64\n",
       "minimum_payments                    float64\n",
       "prc_full_payment                    float64\n",
       "tenure                                int64\n",
       "dtype: object"
      ]
     },
     "execution_count": 27,
     "metadata": {},
     "output_type": "execute_result"
    }
   ],
   "source": [
    "df1.dtypes"
   ]
  },
  {
   "cell_type": "markdown",
   "metadata": {},
   "source": [
    "## 1.4. Check Missing Values"
   ]
  },
  {
   "cell_type": "code",
   "execution_count": 28,
   "metadata": {},
   "outputs": [
    {
     "data": {
      "text/plain": [
       "cust_id                               0\n",
       "balance                               0\n",
       "balance_frequency                     0\n",
       "purchases                             0\n",
       "oneoff_purchases                      0\n",
       "installments_purchases                0\n",
       "cash_advance                          0\n",
       "purchases_frequency                   0\n",
       "oneoff_purchases_frequency            0\n",
       "purchases_installments_frequency      0\n",
       "cash_advance_frequency                0\n",
       "cash_advance_trx                      0\n",
       "purchases_trx                         0\n",
       "credit_limit                          1\n",
       "payments                              0\n",
       "minimum_payments                    313\n",
       "prc_full_payment                      0\n",
       "tenure                                0\n",
       "dtype: int64"
      ]
     },
     "execution_count": 28,
     "metadata": {},
     "output_type": "execute_result"
    }
   ],
   "source": [
    "df1.isna().sum()"
   ]
  },
  {
   "cell_type": "markdown",
   "metadata": {},
   "source": [
    "## 1.5. Replace Missing Values"
   ]
  },
  {
   "cell_type": "code",
   "execution_count": 29,
   "metadata": {},
   "outputs": [],
   "source": [
    "# credit_limit: If the client doesn't have credit limit, the limit is 0 \n",
    "df1[\"credit_limit\"].fillna(0, inplace=True)\n",
    "\n",
    "# minimum_payments: If the client doesn't have a minumum payment, the client payed fully\n",
    "df1[\"minimum_payments\"].fillna(0, inplace=True) "
   ]
  },
  {
   "cell_type": "code",
   "execution_count": 30,
   "metadata": {},
   "outputs": [
    {
     "data": {
      "text/plain": [
       "cust_id                             0\n",
       "balance                             0\n",
       "balance_frequency                   0\n",
       "purchases                           0\n",
       "oneoff_purchases                    0\n",
       "installments_purchases              0\n",
       "cash_advance                        0\n",
       "purchases_frequency                 0\n",
       "oneoff_purchases_frequency          0\n",
       "purchases_installments_frequency    0\n",
       "cash_advance_frequency              0\n",
       "cash_advance_trx                    0\n",
       "purchases_trx                       0\n",
       "credit_limit                        0\n",
       "payments                            0\n",
       "minimum_payments                    0\n",
       "prc_full_payment                    0\n",
       "tenure                              0\n",
       "dtype: int64"
      ]
     },
     "execution_count": 30,
     "metadata": {},
     "output_type": "execute_result"
    }
   ],
   "source": [
    "df1.isna().sum()"
   ]
  },
  {
   "cell_type": "markdown",
   "metadata": {},
   "source": [
    "## 1.6. Descriptive Statistics"
   ]
  },
  {
   "cell_type": "markdown",
   "metadata": {},
   "source": [
    "1. Location estimation\n",
    "    a. Mean - middle point\n",
    "    b. Median - central point of the data\n",
    "    c. Minimum\n",
    "    d. Maximum\n",
    "2. Variability estimation\n",
    "    a. Deviation\n",
    "    b. Variance\n",
    "    c. Standard Deviation\n",
    "    d. RANGE\n",
    "3. Skewness\n",
    "4. Kurtosis"
   ]
  },
  {
   "cell_type": "code",
   "execution_count": 31,
   "metadata": {},
   "outputs": [],
   "source": [
    "num_attributes = df1.select_dtypes(include=[\"int64\", \"float64\"])\n",
    "cat_attributes = df1.select_dtypes(exclude=[\"int64\", \"float64\",\"datetime64[ns]\"])"
   ]
  },
  {
   "cell_type": "markdown",
   "metadata": {},
   "source": [
    "\n",
    "### 1.6.1 Numerical attributes"
   ]
  },
  {
   "cell_type": "code",
   "execution_count": 44,
   "metadata": {},
   "outputs": [
    {
     "data": {
      "text/html": [
       "<div>\n",
       "<style scoped>\n",
       "    .dataframe tbody tr th:only-of-type {\n",
       "        vertical-align: middle;\n",
       "    }\n",
       "\n",
       "    .dataframe tbody tr th {\n",
       "        vertical-align: top;\n",
       "    }\n",
       "\n",
       "    .dataframe thead th {\n",
       "        text-align: right;\n",
       "    }\n",
       "</style>\n",
       "<table border=\"1\" class=\"dataframe\">\n",
       "  <thead>\n",
       "    <tr style=\"text-align: right;\">\n",
       "      <th></th>\n",
       "      <th>Atributes</th>\n",
       "      <th>Min</th>\n",
       "      <th>Max</th>\n",
       "      <th>Range</th>\n",
       "      <th>Mean</th>\n",
       "      <th>Median</th>\n",
       "      <th>Standard Deviation</th>\n",
       "      <th>Skewness</th>\n",
       "      <th>Kurtosis</th>\n",
       "    </tr>\n",
       "  </thead>\n",
       "  <tbody>\n",
       "    <tr>\n",
       "      <th>0</th>\n",
       "      <td>balance</td>\n",
       "      <td>0.0</td>\n",
       "      <td>19043.13856</td>\n",
       "      <td>19043.13856</td>\n",
       "      <td>1564.474828</td>\n",
       "      <td>873.385231</td>\n",
       "      <td>2081.415590</td>\n",
       "      <td>2.393386</td>\n",
       "      <td>7.674751</td>\n",
       "    </tr>\n",
       "    <tr>\n",
       "      <th>1</th>\n",
       "      <td>balance_frequency</td>\n",
       "      <td>0.0</td>\n",
       "      <td>1.00000</td>\n",
       "      <td>1.00000</td>\n",
       "      <td>0.877271</td>\n",
       "      <td>1.000000</td>\n",
       "      <td>0.236891</td>\n",
       "      <td>-2.023266</td>\n",
       "      <td>3.092370</td>\n",
       "    </tr>\n",
       "    <tr>\n",
       "      <th>2</th>\n",
       "      <td>purchases</td>\n",
       "      <td>0.0</td>\n",
       "      <td>49039.57000</td>\n",
       "      <td>49039.57000</td>\n",
       "      <td>1003.204834</td>\n",
       "      <td>361.280000</td>\n",
       "      <td>2136.515413</td>\n",
       "      <td>8.144269</td>\n",
       "      <td>111.388771</td>\n",
       "    </tr>\n",
       "    <tr>\n",
       "      <th>3</th>\n",
       "      <td>oneoff_purchases</td>\n",
       "      <td>0.0</td>\n",
       "      <td>40761.25000</td>\n",
       "      <td>40761.25000</td>\n",
       "      <td>592.437371</td>\n",
       "      <td>38.000000</td>\n",
       "      <td>1659.795184</td>\n",
       "      <td>10.045083</td>\n",
       "      <td>164.187572</td>\n",
       "    </tr>\n",
       "    <tr>\n",
       "      <th>4</th>\n",
       "      <td>installments_purchases</td>\n",
       "      <td>0.0</td>\n",
       "      <td>22500.00000</td>\n",
       "      <td>22500.00000</td>\n",
       "      <td>411.067645</td>\n",
       "      <td>89.000000</td>\n",
       "      <td>904.287592</td>\n",
       "      <td>7.299120</td>\n",
       "      <td>96.575178</td>\n",
       "    </tr>\n",
       "    <tr>\n",
       "      <th>5</th>\n",
       "      <td>cash_advance</td>\n",
       "      <td>0.0</td>\n",
       "      <td>47137.21176</td>\n",
       "      <td>47137.21176</td>\n",
       "      <td>978.871112</td>\n",
       "      <td>0.000000</td>\n",
       "      <td>2097.046713</td>\n",
       "      <td>5.166609</td>\n",
       "      <td>52.899434</td>\n",
       "    </tr>\n",
       "    <tr>\n",
       "      <th>6</th>\n",
       "      <td>purchases_frequency</td>\n",
       "      <td>0.0</td>\n",
       "      <td>1.00000</td>\n",
       "      <td>1.00000</td>\n",
       "      <td>0.490351</td>\n",
       "      <td>0.500000</td>\n",
       "      <td>0.401348</td>\n",
       "      <td>0.060164</td>\n",
       "      <td>-1.638631</td>\n",
       "    </tr>\n",
       "    <tr>\n",
       "      <th>7</th>\n",
       "      <td>oneoff_purchases_frequency</td>\n",
       "      <td>0.0</td>\n",
       "      <td>1.00000</td>\n",
       "      <td>1.00000</td>\n",
       "      <td>0.202458</td>\n",
       "      <td>0.083333</td>\n",
       "      <td>0.298319</td>\n",
       "      <td>1.535613</td>\n",
       "      <td>1.161846</td>\n",
       "    </tr>\n",
       "    <tr>\n",
       "      <th>8</th>\n",
       "      <td>purchases_installments_frequency</td>\n",
       "      <td>0.0</td>\n",
       "      <td>1.00000</td>\n",
       "      <td>1.00000</td>\n",
       "      <td>0.364437</td>\n",
       "      <td>0.166667</td>\n",
       "      <td>0.397426</td>\n",
       "      <td>0.509201</td>\n",
       "      <td>-1.398632</td>\n",
       "    </tr>\n",
       "    <tr>\n",
       "      <th>9</th>\n",
       "      <td>cash_advance_frequency</td>\n",
       "      <td>0.0</td>\n",
       "      <td>1.50000</td>\n",
       "      <td>1.50000</td>\n",
       "      <td>0.135144</td>\n",
       "      <td>0.000000</td>\n",
       "      <td>0.200110</td>\n",
       "      <td>1.828686</td>\n",
       "      <td>3.334734</td>\n",
       "    </tr>\n",
       "    <tr>\n",
       "      <th>10</th>\n",
       "      <td>cash_advance_trx</td>\n",
       "      <td>0.0</td>\n",
       "      <td>123.00000</td>\n",
       "      <td>123.00000</td>\n",
       "      <td>3.248827</td>\n",
       "      <td>0.000000</td>\n",
       "      <td>6.824265</td>\n",
       "      <td>5.721298</td>\n",
       "      <td>61.646862</td>\n",
       "    </tr>\n",
       "    <tr>\n",
       "      <th>11</th>\n",
       "      <td>purchases_trx</td>\n",
       "      <td>0.0</td>\n",
       "      <td>358.00000</td>\n",
       "      <td>358.00000</td>\n",
       "      <td>14.709832</td>\n",
       "      <td>7.000000</td>\n",
       "      <td>24.856260</td>\n",
       "      <td>4.630655</td>\n",
       "      <td>34.793100</td>\n",
       "    </tr>\n",
       "    <tr>\n",
       "      <th>12</th>\n",
       "      <td>credit_limit</td>\n",
       "      <td>0.0</td>\n",
       "      <td>30000.00000</td>\n",
       "      <td>30000.00000</td>\n",
       "      <td>4493.947277</td>\n",
       "      <td>3000.000000</td>\n",
       "      <td>3638.719245</td>\n",
       "      <td>1.522363</td>\n",
       "      <td>2.836419</td>\n",
       "    </tr>\n",
       "    <tr>\n",
       "      <th>13</th>\n",
       "      <td>payments</td>\n",
       "      <td>0.0</td>\n",
       "      <td>50721.48336</td>\n",
       "      <td>50721.48336</td>\n",
       "      <td>1733.143852</td>\n",
       "      <td>856.901546</td>\n",
       "      <td>2894.902017</td>\n",
       "      <td>5.907620</td>\n",
       "      <td>54.770736</td>\n",
       "    </tr>\n",
       "    <tr>\n",
       "      <th>14</th>\n",
       "      <td>minimum_payments</td>\n",
       "      <td>0.0</td>\n",
       "      <td>76406.20752</td>\n",
       "      <td>76406.20752</td>\n",
       "      <td>833.983453</td>\n",
       "      <td>289.628402</td>\n",
       "      <td>2335.859412</td>\n",
       "      <td>13.808430</td>\n",
       "      <td>292.357730</td>\n",
       "    </tr>\n",
       "    <tr>\n",
       "      <th>15</th>\n",
       "      <td>prc_full_payment</td>\n",
       "      <td>0.0</td>\n",
       "      <td>1.00000</td>\n",
       "      <td>1.00000</td>\n",
       "      <td>0.153715</td>\n",
       "      <td>0.000000</td>\n",
       "      <td>0.292483</td>\n",
       "      <td>1.942820</td>\n",
       "      <td>2.432395</td>\n",
       "    </tr>\n",
       "    <tr>\n",
       "      <th>16</th>\n",
       "      <td>tenure</td>\n",
       "      <td>6.0</td>\n",
       "      <td>12.00000</td>\n",
       "      <td>6.00000</td>\n",
       "      <td>11.517318</td>\n",
       "      <td>12.000000</td>\n",
       "      <td>1.338256</td>\n",
       "      <td>-2.943017</td>\n",
       "      <td>7.694823</td>\n",
       "    </tr>\n",
       "  </tbody>\n",
       "</table>\n",
       "</div>"
      ],
      "text/plain": [
       "                           Atributes  Min          Max        Range  \\\n",
       "0                            balance  0.0  19043.13856  19043.13856   \n",
       "1                  balance_frequency  0.0      1.00000      1.00000   \n",
       "2                          purchases  0.0  49039.57000  49039.57000   \n",
       "3                   oneoff_purchases  0.0  40761.25000  40761.25000   \n",
       "4             installments_purchases  0.0  22500.00000  22500.00000   \n",
       "5                       cash_advance  0.0  47137.21176  47137.21176   \n",
       "6                purchases_frequency  0.0      1.00000      1.00000   \n",
       "7         oneoff_purchases_frequency  0.0      1.00000      1.00000   \n",
       "8   purchases_installments_frequency  0.0      1.00000      1.00000   \n",
       "9             cash_advance_frequency  0.0      1.50000      1.50000   \n",
       "10                  cash_advance_trx  0.0    123.00000    123.00000   \n",
       "11                     purchases_trx  0.0    358.00000    358.00000   \n",
       "12                      credit_limit  0.0  30000.00000  30000.00000   \n",
       "13                          payments  0.0  50721.48336  50721.48336   \n",
       "14                  minimum_payments  0.0  76406.20752  76406.20752   \n",
       "15                  prc_full_payment  0.0      1.00000      1.00000   \n",
       "16                            tenure  6.0     12.00000      6.00000   \n",
       "\n",
       "           Mean       Median  Standard Deviation   Skewness    Kurtosis  \n",
       "0   1564.474828   873.385231         2081.415590   2.393386    7.674751  \n",
       "1      0.877271     1.000000            0.236891  -2.023266    3.092370  \n",
       "2   1003.204834   361.280000         2136.515413   8.144269  111.388771  \n",
       "3    592.437371    38.000000         1659.795184  10.045083  164.187572  \n",
       "4    411.067645    89.000000          904.287592   7.299120   96.575178  \n",
       "5    978.871112     0.000000         2097.046713   5.166609   52.899434  \n",
       "6      0.490351     0.500000            0.401348   0.060164   -1.638631  \n",
       "7      0.202458     0.083333            0.298319   1.535613    1.161846  \n",
       "8      0.364437     0.166667            0.397426   0.509201   -1.398632  \n",
       "9      0.135144     0.000000            0.200110   1.828686    3.334734  \n",
       "10     3.248827     0.000000            6.824265   5.721298   61.646862  \n",
       "11    14.709832     7.000000           24.856260   4.630655   34.793100  \n",
       "12  4493.947277  3000.000000         3638.719245   1.522363    2.836419  \n",
       "13  1733.143852   856.901546         2894.902017   5.907620   54.770736  \n",
       "14   833.983453   289.628402         2335.859412  13.808430  292.357730  \n",
       "15     0.153715     0.000000            0.292483   1.942820    2.432395  \n",
       "16    11.517318    12.000000            1.338256  -2.943017    7.694823  "
      ]
     },
     "execution_count": 44,
     "metadata": {},
     "output_type": "execute_result"
    }
   ],
   "source": [
    "# Location estimation (Mean, Median, Minimum, Maximum)\n",
    "est1 = pd.DataFrame(num_attributes.apply(np.mean)).T # the difference between the highest and lowest value in the dataset\n",
    "est2 = pd.DataFrame(num_attributes.apply(np.median)).T # central value of the sorted dataset\n",
    "est3 = pd.DataFrame(num_attributes.apply(np.min)).T  # the smallest value in the dataset\n",
    "est4 = pd.DataFrame(num_attributes.apply(np.max)).T # the largest value in the dataset\n",
    "\n",
    "# Variability estimation (Standard Deviation, RANGE)\n",
    "est5 = pd.DataFrame(num_attributes.apply(np.std)).T # Scattering dataset values around the mean\n",
    "est6 = pd.DataFrame(num_attributes.apply( lambda x: x.max() - x.min())).T # difference between the maximum and minimum value\n",
    "\n",
    "# Skewness - How much is the distribution shifted from a perfectly normal distribution\n",
    "est7 = pd.DataFrame(num_attributes.apply( lambda x: x.skew())).T\n",
    "\n",
    "# Kurtosis - measure of asymmetry of the data distribution, in relation to a normal distribution (which has a symmetry about the mean)\n",
    "est8 = pd.DataFrame(num_attributes.apply( lambda x: x.kurtosis())).T\n",
    "\n",
    "# Concatenete\n",
    "m1 = pd.concat([est3, est4, est6, est1, est2, est5, est7, est8]). T.reset_index()\n",
    "m1.columns = [\"Atributes\", \"Min\", \"Max\", \"Range\", \"Mean\", \"Median\", \"Standard Deviation\", \"Skewness\", \"Kurtosis\"]\n",
    "m1"
   ]
  },
  {
   "cell_type": "markdown",
   "metadata": {},
   "source": [
    "### 1.6.2 Categorical attributes"
   ]
  },
  {
   "cell_type": "code",
   "execution_count": null,
   "metadata": {},
   "outputs": [],
   "source": []
  },
  {
   "cell_type": "markdown",
   "metadata": {},
   "source": [
    "## 2.0. Data Filtering"
   ]
  },
  {
   "cell_type": "markdown",
   "metadata": {},
   "source": [
    "## 3.0. Feature Engineering"
   ]
  },
  {
   "cell_type": "markdown",
   "metadata": {},
   "source": [
    "## 4.0. EDA - Space Study"
   ]
  },
  {
   "cell_type": "markdown",
   "metadata": {},
   "source": [
    "## 5.0. Data Preparation\n"
   ]
  },
  {
   "cell_type": "markdown",
   "metadata": {},
   "source": [
    "## 6.0. Feature Selection"
   ]
  },
  {
   "cell_type": "code",
   "execution_count": null,
   "metadata": {},
   "outputs": [],
   "source": [
    "cols_drop = [\"cust_id\"]\n",
    "X = df1.drop(columns = cols_drop)\n"
   ]
  },
  {
   "cell_type": "markdown",
   "metadata": {},
   "source": [
    "## 7.0. Hiperparmeter Fine Tuning"
   ]
  },
  {
   "cell_type": "markdown",
   "metadata": {},
   "source": [
    "## 7.1. K-Means"
   ]
  },
  {
   "cell_type": "code",
   "execution_count": null,
   "metadata": {},
   "outputs": [],
   "source": [
    "clusters = [2, 3, 4, 5, 6, 7, 8]\n",
    "silhouette_list = []\n",
    "davies_list = []\n",
    "\n",
    "for k in clusters:\n",
    "    # model definition\n",
    "    kmeans_model = c.KMeans(n_clusters=k)\n",
    "\n",
    "    #model training\n",
    "    kmeans_model.fit(X)\n",
    "\n",
    "    # model predict\n",
    "    labels = kmeans_model.predict(X)\n",
    "\n",
    "    # model performance\n",
    "    sil = m.silhouette_score(X, labels)\n",
    "    dav = m.davies_bouldin_score(X, labels)\n",
    "\n",
    "    silhouette_list.append(sil)\n",
    "    davies_list.append(dav)\n",
    "  \n",
    "\n"
   ]
  },
  {
   "cell_type": "code",
   "execution_count": null,
   "metadata": {},
   "outputs": [
    {
     "data": {
      "text/plain": [
       "Text(0.5, 1.0, 'Davies Boulding Index')"
      ]
     },
     "execution_count": 15,
     "metadata": {},
     "output_type": "execute_result"
    },
    {
     "data": {
      "image/png": "[encoded data removed]",
      "text/plain": [
       "<Figure size 1440x720 with 1 Axes>"
      ]
     },
     "metadata": {
      "needs_background": "light"
     },
     "output_type": "display_data"
    },
    {
     "data": {
      "image/png": "[encoded data removed]",
      "text/plain": [
       "<Figure size 1440x720 with 1 Axes>"
      ]
     },
     "metadata": {
      "needs_background": "light"
     },
     "output_type": "display_data"
    }
   ],
   "source": [
    "plt.figure(figsize=(20, 10))\n",
    "plt.plot(clusters, silhouette_list, linestyle=\"--\", marker=\"o\", color=\"green\")\n",
    "plt.xlabel(\"K - Number of CLusters\")\n",
    "plt.ylabel(\"SS - Silhouette Score\")\n",
    "plt.title(\"Silhouette Score\")\n",
    "\n",
    "# Davies Boulding - the best will be with 4 clusters (closer to zero is better)\n",
    "plt.figure(figsize=(20, 10))\n",
    "plt.plot(clusters, davies_list, linestyle=\"--\", marker=\"o\", color=\"green\")\n",
    "plt.xlabel(\"K - Number of CLusters\")\n",
    "plt.ylabel(\"DB - Davies Boulding Score\")\n",
    "plt.title(\"Davies Boulding Index\")"
   ]
  },
  {
   "cell_type": "markdown",
   "metadata": {},
   "source": [
    "## 8.0. Machine Learning Training"
   ]
  },
  {
   "cell_type": "markdown",
   "metadata": {},
   "source": [
    "## 9.0. Clustering Analysis"
   ]
  },
  {
   "cell_type": "markdown",
   "metadata": {},
   "source": [
    "## 10.0. EDA - Insight Reports"
   ]
  },
  {
   "cell_type": "markdown",
   "metadata": {},
   "source": [
    "## 11.0. Deploy to Production"
   ]
  },
  {
   "cell_type": "code",
   "execution_count": null,
   "metadata": {},
   "outputs": [],
   "source": []
  }
 ],
 "metadata": {
  "kernelspec": {
   "display_name": "Python 3.9.12 ('base')",
   "language": "python",
   "name": "python3"
  },
  "language_info": {
   "codemirror_mode": {
    "name": "ipython",
    "version": 3
   },
   "file_extension": ".py",
   "mimetype": "text/x-python",
   "name": "python",
   "nbconvert_exporter": "python",
   "pygments_lexer": "ipython3",
   "version": "3.9.12"
  },
  "orig_nbformat": 4,
  "vscode": {
   "interpreter": {
    "hash": "bdaf18d4c578f2a391672af1b0d92a2d783c11df42ceb6820a12e3a62a71b9ef"
   }
  }
 },
 "nbformat": 4,
 "nbformat_minor": 2
}
